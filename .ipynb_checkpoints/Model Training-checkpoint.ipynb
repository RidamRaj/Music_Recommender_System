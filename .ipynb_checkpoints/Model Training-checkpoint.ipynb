{
 "cells": [
  {
   "cell_type": "code",
   "execution_count": null,
   "id": "1063db0d-0575-43da-9238-4b3845446ce1",
   "metadata": {},
   "outputs": [],
   "source": [
    "import pandas as pd\n",
    "import numpy as np"
   ]
  },
  {
   "cell_type": "code",
   "execution_count": null,
   "id": "a19864cd-e2a6-4bfd-86c3-b2dd3e792b17",
   "metadata": {},
   "outputs": [],
   "source": [
    "df = pd.read_csv(\"spotify_millsongdata.csv\")"
   ]
  },
  {
   "cell_type": "code",
   "execution_count": null,
   "id": "42d8e64f-c45e-48c1-bae3-786ce2b89c87",
   "metadata": {},
   "outputs": [],
   "source": [
    "df.head(5)"
   ]
  },
  {
   "cell_type": "code",
   "execution_count": null,
   "id": "0c5fe9ed-a88e-441b-8b57-2e3fe157aed3",
   "metadata": {},
   "outputs": [],
   "source": [
    "df.tail(5)"
   ]
  },
  {
   "cell_type": "code",
   "execution_count": null,
   "id": "95a88e7e-d485-4447-bb85-2c96d29fdd89",
   "metadata": {},
   "outputs": [],
   "source": [
    "df.shape"
   ]
  },
  {
   "cell_type": "code",
   "execution_count": null,
   "id": "75a10b52-25dc-4606-917b-d82df262376c",
   "metadata": {},
   "outputs": [],
   "source": [
    "df.isnull().sum()"
   ]
  },
  {
   "cell_type": "code",
   "execution_count": null,
   "id": "afbc6553-0292-43f3-95ed-a6a668cba637",
   "metadata": {},
   "outputs": [],
   "source": [
    "df = df.sample(n=5000).drop('link', axis=1).reset_index(drop=True)"
   ]
  },
  {
   "cell_type": "code",
   "execution_count": null,
   "id": "7a3b4d86-c5b1-4787-93d8-b1afbd3bd50b",
   "metadata": {},
   "outputs": [],
   "source": [
    "df.head(10)"
   ]
  },
  {
   "cell_type": "code",
   "execution_count": null,
   "id": "6a51b9c1-8345-4626-9bd0-33deab48858a",
   "metadata": {},
   "outputs": [],
   "source": [
    "df['text'][0]"
   ]
  },
  {
   "cell_type": "code",
   "execution_count": null,
   "id": "146d3237-17ca-4408-a689-c7da3c81b4b4",
   "metadata": {},
   "outputs": [],
   "source": [
    "df = df.sample(5000)"
   ]
  },
  {
   "cell_type": "code",
   "execution_count": null,
   "id": "1ccc31f9-9e3c-4a26-b7c4-0f8a33959a47",
   "metadata": {},
   "outputs": [],
   "source": [
    "df.shape"
   ]
  },
  {
   "cell_type": "markdown",
   "id": "914449ae-7610-4672-a8b2-b871f8794679",
   "metadata": {},
   "source": [
    "Text Cleaning/ Text Preprocessing"
   ]
  },
  {
   "cell_type": "code",
   "execution_count": null,
   "id": "6195e1da-3f5b-468a-978c-934b2899dd57",
   "metadata": {},
   "outputs": [],
   "source": [
    "df['text'] = df['text'].str.lower().replace(r'^a-zA-Z0-9', ' ').replace(r'\\n',' ',regex = True)"
   ]
  },
  {
   "cell_type": "markdown",
   "id": "2b72c263-7e06-4a61-9754-1fdccaa253f8",
   "metadata": {},
   "source": [
    "r'^\\w\\s,' ' shortcut for r'^a-zA-Z0-9"
   ]
  },
  {
   "cell_type": "code",
   "execution_count": null,
   "id": "742b5c86-36ad-42e0-8131-85ab4937a7e1",
   "metadata": {},
   "outputs": [],
   "source": [
    "df.tail(5)"
   ]
  },
  {
   "cell_type": "markdown",
   "id": "241c4c8a-10f0-49fb-a942-43dae242bb85",
   "metadata": {},
   "source": [
    "textual data -> tokeinzation"
   ]
  },
  {
   "cell_type": "code",
   "execution_count": null,
   "id": "6837dfa1-c6bc-4466-9f6c-8a5827afe5f9",
   "metadata": {},
   "outputs": [],
   "source": [
    "import nltk\n",
    "from nltk.stem.porter import PorterStemmer\n",
    "\n",
    "ps = PorterStemmer()\n",
    "\n",
    "# stemming = []\n",
    "def tokenization(txt):\n",
    "    tokens = nltk.word_tokenize(txt)\n",
    "    # for w in tokens:\n",
    "    #     stemming.append(ps.stem(w))\n",
    "    stemming = [ps.stem(w) for w in tokens]\n",
    "\n",
    "    return \" \".join(stemming)"
   ]
  },
  {
   "cell_type": "code",
   "execution_count": null,
   "id": "faaf517a",
   "metadata": {},
   "outputs": [],
   "source": [
    "tokenization('this is my word loving loved')"
   ]
  },
  {
   "cell_type": "code",
   "execution_count": null,
   "id": "ee6e7003",
   "metadata": {},
   "outputs": [],
   "source": [
    "df['text'].apply(lambda x : tokenization(x))"
   ]
  },
  {
   "cell_type": "code",
   "execution_count": null,
   "id": "dce9eaeb-dca1-4cb6-8618-9cb2aedfb203",
   "metadata": {},
   "outputs": [],
   "source": []
  }
 ],
 "metadata": {
  "kernelspec": {
   "display_name": "Python 3 (ipykernel)",
   "language": "python",
   "name": "python3"
  },
  "language_info": {
   "codemirror_mode": {
    "name": "ipython",
    "version": 3
   },
   "file_extension": ".py",
   "mimetype": "text/x-python",
   "name": "python",
   "nbconvert_exporter": "python",
   "pygments_lexer": "ipython3",
   "version": "3.11.7"
  }
 },
 "nbformat": 4,
 "nbformat_minor": 5
}
