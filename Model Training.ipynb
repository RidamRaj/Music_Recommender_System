{
 "cells": [
  {
   "cell_type": "code",
   "execution_count": 1,
   "id": "1063db0d-0575-43da-9238-4b3845446ce1",
   "metadata": {},
   "outputs": [],
   "source": [
    "import pandas as pd\n",
    "import numpy as np"
   ]
  },
  {
   "cell_type": "code",
   "execution_count": 2,
   "id": "a19864cd-e2a6-4bfd-86c3-b2dd3e792b17",
   "metadata": {},
   "outputs": [],
   "source": [
    "df = pd.read_csv(\"spotify_millsongdata.csv\")"
   ]
  },
  {
   "cell_type": "code",
   "execution_count": 3,
   "id": "42d8e64f-c45e-48c1-bae3-786ce2b89c87",
   "metadata": {},
   "outputs": [
    {
     "data": {
      "text/html": [
       "<div>\n",
       "<style scoped>\n",
       "    .dataframe tbody tr th:only-of-type {\n",
       "        vertical-align: middle;\n",
       "    }\n",
       "\n",
       "    .dataframe tbody tr th {\n",
       "        vertical-align: top;\n",
       "    }\n",
       "\n",
       "    .dataframe thead th {\n",
       "        text-align: right;\n",
       "    }\n",
       "</style>\n",
       "<table border=\"1\" class=\"dataframe\">\n",
       "  <thead>\n",
       "    <tr style=\"text-align: right;\">\n",
       "      <th></th>\n",
       "      <th>artist</th>\n",
       "      <th>song</th>\n",
       "      <th>link</th>\n",
       "      <th>text</th>\n",
       "    </tr>\n",
       "  </thead>\n",
       "  <tbody>\n",
       "    <tr>\n",
       "      <th>0</th>\n",
       "      <td>ABBA</td>\n",
       "      <td>Ahe's My Kind Of Girl</td>\n",
       "      <td>/a/abba/ahes+my+kind+of+girl_20598417.html</td>\n",
       "      <td>Look at her face, it's a wonderful face  \\r\\nA...</td>\n",
       "    </tr>\n",
       "    <tr>\n",
       "      <th>1</th>\n",
       "      <td>ABBA</td>\n",
       "      <td>Andante, Andante</td>\n",
       "      <td>/a/abba/andante+andante_20002708.html</td>\n",
       "      <td>Take it easy with me, please  \\r\\nTouch me gen...</td>\n",
       "    </tr>\n",
       "    <tr>\n",
       "      <th>2</th>\n",
       "      <td>ABBA</td>\n",
       "      <td>As Good As New</td>\n",
       "      <td>/a/abba/as+good+as+new_20003033.html</td>\n",
       "      <td>I'll never know why I had to go  \\r\\nWhy I had...</td>\n",
       "    </tr>\n",
       "    <tr>\n",
       "      <th>3</th>\n",
       "      <td>ABBA</td>\n",
       "      <td>Bang</td>\n",
       "      <td>/a/abba/bang_20598415.html</td>\n",
       "      <td>Making somebody happy is a question of give an...</td>\n",
       "    </tr>\n",
       "    <tr>\n",
       "      <th>4</th>\n",
       "      <td>ABBA</td>\n",
       "      <td>Bang-A-Boomerang</td>\n",
       "      <td>/a/abba/bang+a+boomerang_20002668.html</td>\n",
       "      <td>Making somebody happy is a question of give an...</td>\n",
       "    </tr>\n",
       "  </tbody>\n",
       "</table>\n",
       "</div>"
      ],
      "text/plain": [
       "  artist                   song                                        link  \\\n",
       "0   ABBA  Ahe's My Kind Of Girl  /a/abba/ahes+my+kind+of+girl_20598417.html   \n",
       "1   ABBA       Andante, Andante       /a/abba/andante+andante_20002708.html   \n",
       "2   ABBA         As Good As New        /a/abba/as+good+as+new_20003033.html   \n",
       "3   ABBA                   Bang                  /a/abba/bang_20598415.html   \n",
       "4   ABBA       Bang-A-Boomerang      /a/abba/bang+a+boomerang_20002668.html   \n",
       "\n",
       "                                                text  \n",
       "0  Look at her face, it's a wonderful face  \\r\\nA...  \n",
       "1  Take it easy with me, please  \\r\\nTouch me gen...  \n",
       "2  I'll never know why I had to go  \\r\\nWhy I had...  \n",
       "3  Making somebody happy is a question of give an...  \n",
       "4  Making somebody happy is a question of give an...  "
      ]
     },
     "execution_count": 3,
     "metadata": {},
     "output_type": "execute_result"
    }
   ],
   "source": [
    "df.head(5)"
   ]
  },
  {
   "cell_type": "code",
   "execution_count": 4,
   "id": "0c5fe9ed-a88e-441b-8b57-2e3fe157aed3",
   "metadata": {},
   "outputs": [
    {
     "data": {
      "text/html": [
       "<div>\n",
       "<style scoped>\n",
       "    .dataframe tbody tr th:only-of-type {\n",
       "        vertical-align: middle;\n",
       "    }\n",
       "\n",
       "    .dataframe tbody tr th {\n",
       "        vertical-align: top;\n",
       "    }\n",
       "\n",
       "    .dataframe thead th {\n",
       "        text-align: right;\n",
       "    }\n",
       "</style>\n",
       "<table border=\"1\" class=\"dataframe\">\n",
       "  <thead>\n",
       "    <tr style=\"text-align: right;\">\n",
       "      <th></th>\n",
       "      <th>artist</th>\n",
       "      <th>song</th>\n",
       "      <th>link</th>\n",
       "      <th>text</th>\n",
       "    </tr>\n",
       "  </thead>\n",
       "  <tbody>\n",
       "    <tr>\n",
       "      <th>57645</th>\n",
       "      <td>Ziggy Marley</td>\n",
       "      <td>Good Old Days</td>\n",
       "      <td>/z/ziggy+marley/good+old+days_10198588.html</td>\n",
       "      <td>Irie days come on play  \\r\\nLet the angels fly...</td>\n",
       "    </tr>\n",
       "    <tr>\n",
       "      <th>57646</th>\n",
       "      <td>Ziggy Marley</td>\n",
       "      <td>Hand To Mouth</td>\n",
       "      <td>/z/ziggy+marley/hand+to+mouth_20531167.html</td>\n",
       "      <td>Power to the workers  \\r\\nMore power  \\r\\nPowe...</td>\n",
       "    </tr>\n",
       "    <tr>\n",
       "      <th>57647</th>\n",
       "      <td>Zwan</td>\n",
       "      <td>Come With Me</td>\n",
       "      <td>/z/zwan/come+with+me_20148981.html</td>\n",
       "      <td>all you need  \\r\\nis something i'll believe  \\...</td>\n",
       "    </tr>\n",
       "    <tr>\n",
       "      <th>57648</th>\n",
       "      <td>Zwan</td>\n",
       "      <td>Desire</td>\n",
       "      <td>/z/zwan/desire_20148986.html</td>\n",
       "      <td>northern star  \\r\\nam i frightened  \\r\\nwhere ...</td>\n",
       "    </tr>\n",
       "    <tr>\n",
       "      <th>57649</th>\n",
       "      <td>Zwan</td>\n",
       "      <td>Heartsong</td>\n",
       "      <td>/z/zwan/heartsong_20148991.html</td>\n",
       "      <td>come in  \\r\\nmake yourself at home  \\r\\ni'm a ...</td>\n",
       "    </tr>\n",
       "  </tbody>\n",
       "</table>\n",
       "</div>"
      ],
      "text/plain": [
       "             artist           song  \\\n",
       "57645  Ziggy Marley  Good Old Days   \n",
       "57646  Ziggy Marley  Hand To Mouth   \n",
       "57647          Zwan   Come With Me   \n",
       "57648          Zwan         Desire   \n",
       "57649          Zwan      Heartsong   \n",
       "\n",
       "                                              link  \\\n",
       "57645  /z/ziggy+marley/good+old+days_10198588.html   \n",
       "57646  /z/ziggy+marley/hand+to+mouth_20531167.html   \n",
       "57647           /z/zwan/come+with+me_20148981.html   \n",
       "57648                 /z/zwan/desire_20148986.html   \n",
       "57649              /z/zwan/heartsong_20148991.html   \n",
       "\n",
       "                                                    text  \n",
       "57645  Irie days come on play  \\r\\nLet the angels fly...  \n",
       "57646  Power to the workers  \\r\\nMore power  \\r\\nPowe...  \n",
       "57647  all you need  \\r\\nis something i'll believe  \\...  \n",
       "57648  northern star  \\r\\nam i frightened  \\r\\nwhere ...  \n",
       "57649  come in  \\r\\nmake yourself at home  \\r\\ni'm a ...  "
      ]
     },
     "execution_count": 4,
     "metadata": {},
     "output_type": "execute_result"
    }
   ],
   "source": [
    "df.tail(5)"
   ]
  },
  {
   "cell_type": "code",
   "execution_count": 5,
   "id": "95a88e7e-d485-4447-bb85-2c96d29fdd89",
   "metadata": {},
   "outputs": [
    {
     "data": {
      "text/plain": [
       "(57650, 4)"
      ]
     },
     "execution_count": 5,
     "metadata": {},
     "output_type": "execute_result"
    }
   ],
   "source": [
    "df.shape"
   ]
  },
  {
   "cell_type": "code",
   "execution_count": 6,
   "id": "75a10b52-25dc-4606-917b-d82df262376c",
   "metadata": {},
   "outputs": [
    {
     "data": {
      "text/plain": [
       "artist    0\n",
       "song      0\n",
       "link      0\n",
       "text      0\n",
       "dtype: int64"
      ]
     },
     "execution_count": 6,
     "metadata": {},
     "output_type": "execute_result"
    }
   ],
   "source": [
    "df.isnull().sum()"
   ]
  },
  {
   "cell_type": "code",
   "execution_count": 7,
   "id": "afbc6553-0292-43f3-95ed-a6a668cba637",
   "metadata": {},
   "outputs": [],
   "source": [
    "df = df.sample(n=5000).drop('link', axis=1).reset_index(drop=True)"
   ]
  },
  {
   "cell_type": "code",
   "execution_count": 8,
   "id": "7a3b4d86-c5b1-4787-93d8-b1afbd3bd50b",
   "metadata": {},
   "outputs": [
    {
     "data": {
      "text/html": [
       "<div>\n",
       "<style scoped>\n",
       "    .dataframe tbody tr th:only-of-type {\n",
       "        vertical-align: middle;\n",
       "    }\n",
       "\n",
       "    .dataframe tbody tr th {\n",
       "        vertical-align: top;\n",
       "    }\n",
       "\n",
       "    .dataframe thead th {\n",
       "        text-align: right;\n",
       "    }\n",
       "</style>\n",
       "<table border=\"1\" class=\"dataframe\">\n",
       "  <thead>\n",
       "    <tr style=\"text-align: right;\">\n",
       "      <th></th>\n",
       "      <th>artist</th>\n",
       "      <th>song</th>\n",
       "      <th>text</th>\n",
       "    </tr>\n",
       "  </thead>\n",
       "  <tbody>\n",
       "    <tr>\n",
       "      <th>0</th>\n",
       "      <td>Insane Clown Posse</td>\n",
       "      <td>Dead Body Man</td>\n",
       "      <td>\"This is a Channel 7 news brief because the ne...</td>\n",
       "    </tr>\n",
       "    <tr>\n",
       "      <th>1</th>\n",
       "      <td>Madonna</td>\n",
       "      <td>Just A Dream</td>\n",
       "      <td>[Chorus:]  \\r\\n  \\r\\nWas it just a dream?  \\r\\...</td>\n",
       "    </tr>\n",
       "    <tr>\n",
       "      <th>2</th>\n",
       "      <td>Michael Bolton</td>\n",
       "      <td>Hot Love</td>\n",
       "      <td>I never knew someone who made me  \\r\\nFeel so ...</td>\n",
       "    </tr>\n",
       "    <tr>\n",
       "      <th>3</th>\n",
       "      <td>Kenny Loggins</td>\n",
       "      <td>Will It Last</td>\n",
       "      <td>I see a lion captive in the kitchen  \\r\\nRolli...</td>\n",
       "    </tr>\n",
       "    <tr>\n",
       "      <th>4</th>\n",
       "      <td>Ultravox</td>\n",
       "      <td>We Stand Alone</td>\n",
       "      <td>The words played on around our heads  \\r\\nPerh...</td>\n",
       "    </tr>\n",
       "    <tr>\n",
       "      <th>5</th>\n",
       "      <td>Wet Wet Wet</td>\n",
       "      <td>Can't Stand The Night</td>\n",
       "      <td>Here I am  \\r\\nI want you to know that I under...</td>\n",
       "    </tr>\n",
       "    <tr>\n",
       "      <th>6</th>\n",
       "      <td>Hillsong</td>\n",
       "      <td>Breathe On Me</td>\n",
       "      <td>Breathe on me, breath of God  \\r\\nLove and lif...</td>\n",
       "    </tr>\n",
       "    <tr>\n",
       "      <th>7</th>\n",
       "      <td>Alan Parsons Project</td>\n",
       "      <td>Wine From The Water</td>\n",
       "      <td>You can take me up, you can wind me down  \\r\\n...</td>\n",
       "    </tr>\n",
       "    <tr>\n",
       "      <th>8</th>\n",
       "      <td>Cinderella</td>\n",
       "      <td>Blood From A Stone</td>\n",
       "      <td>Well I've been walkin'  \\r\\nDown a one way dir...</td>\n",
       "    </tr>\n",
       "    <tr>\n",
       "      <th>9</th>\n",
       "      <td>Old 97's</td>\n",
       "      <td>Curtain Calls</td>\n",
       "      <td>In a western town, beneath the northern lights...</td>\n",
       "    </tr>\n",
       "  </tbody>\n",
       "</table>\n",
       "</div>"
      ],
      "text/plain": [
       "                 artist                   song  \\\n",
       "0    Insane Clown Posse          Dead Body Man   \n",
       "1               Madonna           Just A Dream   \n",
       "2        Michael Bolton               Hot Love   \n",
       "3         Kenny Loggins           Will It Last   \n",
       "4              Ultravox         We Stand Alone   \n",
       "5           Wet Wet Wet  Can't Stand The Night   \n",
       "6              Hillsong          Breathe On Me   \n",
       "7  Alan Parsons Project    Wine From The Water   \n",
       "8            Cinderella     Blood From A Stone   \n",
       "9              Old 97's          Curtain Calls   \n",
       "\n",
       "                                                text  \n",
       "0  \"This is a Channel 7 news brief because the ne...  \n",
       "1  [Chorus:]  \\r\\n  \\r\\nWas it just a dream?  \\r\\...  \n",
       "2  I never knew someone who made me  \\r\\nFeel so ...  \n",
       "3  I see a lion captive in the kitchen  \\r\\nRolli...  \n",
       "4  The words played on around our heads  \\r\\nPerh...  \n",
       "5  Here I am  \\r\\nI want you to know that I under...  \n",
       "6  Breathe on me, breath of God  \\r\\nLove and lif...  \n",
       "7  You can take me up, you can wind me down  \\r\\n...  \n",
       "8  Well I've been walkin'  \\r\\nDown a one way dir...  \n",
       "9  In a western town, beneath the northern lights...  "
      ]
     },
     "execution_count": 8,
     "metadata": {},
     "output_type": "execute_result"
    }
   ],
   "source": [
    "df.head(10)"
   ]
  },
  {
   "cell_type": "code",
   "execution_count": 9,
   "id": "6a51b9c1-8345-4626-9bd0-33deab48858a",
   "metadata": {},
   "outputs": [
    {
     "data": {
      "text/plain": [
       "'\"This is a Channel 7 news brief because the news is happening now!  \\r\\nGood evening Mort Perkins reporting. Our top story tonight: Police and  \\r\\ninvestigators are still trying to figure out how and why somebody stole four\\r\\ndead bodies from the  \\r\\nWayne County morgue late Monday night. Police say the apparent body thief\\r\\nentered  \\r\\nthrough the basement window but how they eluded the security and alarm system\\r\\nis still a  \\r\\nmystery. But what we at Channel 7 are wondering: What kinda sick FUCK would\\r\\nsteal four  \\r\\ndead bodies anyway? Details at 11.\"  \\r\\n  \\r\\nDead bodies, dead bodies all over the street.  \\r\\n55-65, bodies at least.  \\r\\nI hang with the stiffs till the break of dawn.  \\r\\nI\\'m always finding bodies when I\\'m mowing the lawn.  \\r\\nDrag \\'em in the house, throw \\'em in the oven.  \\r\\nWicked clown lovin\\' that dead body grubbin\\'.  \\r\\nTastes like chicken, finger lickin\\' deep fried.  \\r\\nI ate a dead body, but don\\'t tell. I lied.  \\r\\nI just ate my first dead body last week,  \\r\\nStill got the fingernail caught in my teeth.  \\r\\nBefore ya start yellin\\' and cursin\\' my name,  \\r\\nRemember somethings wrong with my brain, insane.  \\r\\nSecond I was born, doctor threw me against the wall.  \\r\\nKicked open the doors and he whipped me down the hall.  \\r\\nI\\'m sliding and I\\'m boucin\\' off shit like a hockey puck.  \\r\\nAnd my mother\\'s like, \"What the fuck?!\"  \\r\\nHe said I was born of an alien race.  \\r\\nBorn with a hatchet and a juggalo face.  \\r\\nBut I\\'m not a martian, you wouldn\\'t understand.  \\r\\nI\\'m just a dead body man.  \\r\\n  \\r\\n\"We\\'ve got bodies! Dead bodies! We got fat ones, skinny ones, males, females,  \\r\\nhermaphrodites! We got somebodies! We got nobodies! Bodies, bodies, bodies!  \\r\\nWOO!\"  \\r\\n  \\r\\nDead bodies, dead bodies in the back of my van.  \\r\\nAll the little kiddies love the dead body man.  \\r\\nI drive through my neighborhood ringin\\' my bell.  \\r\\nSome people run cause they don\\'t like the smell.  \\r\\nOthers line up just as quick as they can.  \\r\\nTo try to catch a glimpse of the dead body man.  \\r\\nIt\\'s all good, if you can stand the funk. but uh.....  \\r\\nJust don\\'t look in the trunk.  \\r\\nI drive down central kickin\\' the bass.  \\r\\nChillin\\' with my freaks and I\\'m pickin\\' her face.  \\r\\nMaggots and bugs like to crawl on her head.  \\r\\nCause my bitch is dead, I\\'d rather that instead.  \\r\\nI\\'m a hoe you can\\'t trust, always diggin\\' a nut.  \\r\\nA dead body bitch learned to keep her mouth shut.  \\r\\nRiding in the back is my dead body crew.  \\r\\nOnly they can never think of nothin\\' to do.  \\r\\nIf you think I\\'m sick, take a look at yourself.  \\r\\nYou got dead deer heads up on your shelf.  \\r\\nOn your key chain is a little baby rabbit\\'s hand.  \\r\\nI\\'m just the dead body man.  \\r\\n  \\r\\n\"We also collect dead bodies! So if you know any dead people,  \\r\\nor you yourself are planning on dying soon,  \\r\\nwe\\'ll be happy to come to your house and pay cash for it!  \\r\\nWe appreciate good, healthy, stiffs for our dinner! WAHOO!\"  \\r\\n  \\r\\nCall me the dead body man (Some\\'ll give \\'em to me!)  \\r\\nCall me the dead body man (Just sell \\'em to me!)  \\r\\nCall me the dead body man (You can mail \\'em to me!)  \\r\\nCall me the dead body man (But, Bring \\'em to me!)  \\r\\n  \\r\\nCall me the dead body man (Won\\'t ya give \\'em to me!)  \\r\\nCall me the dead body man (You can sell \\'em to me!)  \\r\\nCall me the dead body man (Just mail \\'em to me!)  \\r\\nCall me the dead body man (But, Bring \\'em to me!)  \\r\\n  \\r\\nCall me the dead body man (Won\\'t ya give \\'em to me!)  \\r\\nCall me the dead body man (You can sell \\'em to me!)  \\r\\nCall me the dead body man (Just mail \\'em to me!)  \\r\\nCall me the dead body man (But, Bring \\'em to me!)  \\r\\n  \\r\\nCall me the dead body man.  \\r\\nCall me the dead body man\\r\\n\\r\\n'"
      ]
     },
     "execution_count": 9,
     "metadata": {},
     "output_type": "execute_result"
    }
   ],
   "source": [
    "df['text'][0]"
   ]
  },
  {
   "cell_type": "code",
   "execution_count": 10,
   "id": "1ccc31f9-9e3c-4a26-b7c4-0f8a33959a47",
   "metadata": {},
   "outputs": [
    {
     "data": {
      "text/plain": [
       "(5000, 3)"
      ]
     },
     "execution_count": 10,
     "metadata": {},
     "output_type": "execute_result"
    }
   ],
   "source": [
    "df.shape"
   ]
  },
  {
   "cell_type": "markdown",
   "id": "914449ae-7610-4672-a8b2-b871f8794679",
   "metadata": {},
   "source": [
    "Text Cleaning/ Text Preprocessing"
   ]
  },
  {
   "cell_type": "code",
   "execution_count": 11,
   "id": "6195e1da-3f5b-468a-978c-934b2899dd57",
   "metadata": {},
   "outputs": [],
   "source": [
    "df['text'] = df['text'].str.lower().replace(r'^a-zA-Z0-9', ' ').replace(r'\\n',' ',regex = True)"
   ]
  },
  {
   "cell_type": "markdown",
   "id": "2b72c263-7e06-4a61-9754-1fdccaa253f8",
   "metadata": {},
   "source": [
    "r'^\\w\\s,' ' shortcut for r'^a-zA-Z0-9"
   ]
  },
  {
   "cell_type": "code",
   "execution_count": 12,
   "id": "742b5c86-36ad-42e0-8131-85ab4937a7e1",
   "metadata": {},
   "outputs": [
    {
     "data": {
      "text/html": [
       "<div>\n",
       "<style scoped>\n",
       "    .dataframe tbody tr th:only-of-type {\n",
       "        vertical-align: middle;\n",
       "    }\n",
       "\n",
       "    .dataframe tbody tr th {\n",
       "        vertical-align: top;\n",
       "    }\n",
       "\n",
       "    .dataframe thead th {\n",
       "        text-align: right;\n",
       "    }\n",
       "</style>\n",
       "<table border=\"1\" class=\"dataframe\">\n",
       "  <thead>\n",
       "    <tr style=\"text-align: right;\">\n",
       "      <th></th>\n",
       "      <th>artist</th>\n",
       "      <th>song</th>\n",
       "      <th>text</th>\n",
       "    </tr>\n",
       "  </thead>\n",
       "  <tbody>\n",
       "    <tr>\n",
       "      <th>4995</th>\n",
       "      <td>Norah Jones</td>\n",
       "      <td>Cold Cold Heart</td>\n",
       "      <td>i've tried so hard my dear to show  \\r that yo...</td>\n",
       "    </tr>\n",
       "    <tr>\n",
       "      <th>4996</th>\n",
       "      <td>Kiss</td>\n",
       "      <td>Partners In Crime</td>\n",
       "      <td>alright  \\r i know your wheels are turning, go...</td>\n",
       "    </tr>\n",
       "    <tr>\n",
       "      <th>4997</th>\n",
       "      <td>Cyndi Lauper</td>\n",
       "      <td>Lies</td>\n",
       "      <td>the street light  \\r through my window  \\r mak...</td>\n",
       "    </tr>\n",
       "    <tr>\n",
       "      <th>4998</th>\n",
       "      <td>The Temptations</td>\n",
       "      <td>The Further You Look, The Less You See</td>\n",
       "      <td>many a man has gone away  \\r many a man has go...</td>\n",
       "    </tr>\n",
       "    <tr>\n",
       "      <th>4999</th>\n",
       "      <td>Harry Connick, Jr.</td>\n",
       "      <td>A Spoonful Of Sugar</td>\n",
       "      <td>in every job that must be done  \\r there is an...</td>\n",
       "    </tr>\n",
       "  </tbody>\n",
       "</table>\n",
       "</div>"
      ],
      "text/plain": [
       "                  artist                                    song  \\\n",
       "4995         Norah Jones                         Cold Cold Heart   \n",
       "4996                Kiss                       Partners In Crime   \n",
       "4997        Cyndi Lauper                                    Lies   \n",
       "4998     The Temptations  The Further You Look, The Less You See   \n",
       "4999  Harry Connick, Jr.                     A Spoonful Of Sugar   \n",
       "\n",
       "                                                   text  \n",
       "4995  i've tried so hard my dear to show  \\r that yo...  \n",
       "4996  alright  \\r i know your wheels are turning, go...  \n",
       "4997  the street light  \\r through my window  \\r mak...  \n",
       "4998  many a man has gone away  \\r many a man has go...  \n",
       "4999  in every job that must be done  \\r there is an...  "
      ]
     },
     "execution_count": 12,
     "metadata": {},
     "output_type": "execute_result"
    }
   ],
   "source": [
    "df.tail(5)"
   ]
  },
  {
   "cell_type": "markdown",
   "id": "241c4c8a-10f0-49fb-a942-43dae242bb85",
   "metadata": {},
   "source": [
    "textual data -> tokeinzation"
   ]
  },
  {
   "cell_type": "code",
   "execution_count": 13,
   "id": "6837dfa1-c6bc-4466-9f6c-8a5827afe5f9",
   "metadata": {},
   "outputs": [],
   "source": [
    "import nltk\n",
    "from nltk.stem.porter import PorterStemmer\n",
    "\n",
    "ps = PorterStemmer()\n",
    "\n",
    "# stemming = []\n",
    "def tokenization(txt):\n",
    "    tokens = nltk.word_tokenize(txt)\n",
    "    # for w in tokens:\n",
    "    #     stemming.append(ps.stem(w))\n",
    "    stemming = [ps.stem(w) for w in tokens]\n",
    "\n",
    "    return \" \".join(stemming)"
   ]
  },
  {
   "cell_type": "code",
   "execution_count": 14,
   "id": "faaf517a",
   "metadata": {},
   "outputs": [
    {
     "data": {
      "text/plain": [
       "'thi is my word love love'"
      ]
     },
     "execution_count": 14,
     "metadata": {},
     "output_type": "execute_result"
    }
   ],
   "source": [
    "tokenization('this is my word loving loved')"
   ]
  },
  {
   "cell_type": "code",
   "execution_count": 15,
   "id": "ee6e7003",
   "metadata": {},
   "outputs": [],
   "source": [
    "df['text'] = df['text'].apply(lambda x : tokenization(x))"
   ]
  },
  {
   "cell_type": "code",
   "execution_count": 16,
   "id": "fd225c35-a850-4259-9ad5-ac422cfb1149",
   "metadata": {},
   "outputs": [
    {
     "data": {
      "text/plain": [
       "0       `` thi is a channel 7 news brief becaus the ne...\n",
       "1       [ choru : ] wa it just a dream ? did i feel yo...\n",
       "2       i never knew someon who made me feel so good b...\n",
       "3       i see a lion captiv in the kitchen roll thunde...\n",
       "4       the word play on around our head perhap we wen...\n",
       "                              ...                        \n",
       "4995    i 've tri so hard my dear to show that you 're...\n",
       "4996    alright i know your wheel are turn , got your ...\n",
       "4997    the street light through my window make me fee...\n",
       "4998    mani a man ha gone away mani a man ha gone ast...\n",
       "4999    in everi job that must be done there is an ele...\n",
       "Name: text, Length: 5000, dtype: object"
      ]
     },
     "execution_count": 16,
     "metadata": {},
     "output_type": "execute_result"
    }
   ],
   "source": [
    "df['text']"
   ]
  },
  {
   "cell_type": "code",
   "execution_count": 17,
   "id": "5dbdb20b-7e14-4908-a527-f75f486e8eb5",
   "metadata": {},
   "outputs": [
    {
     "data": {
      "text/html": [
       "<div>\n",
       "<style scoped>\n",
       "    .dataframe tbody tr th:only-of-type {\n",
       "        vertical-align: middle;\n",
       "    }\n",
       "\n",
       "    .dataframe tbody tr th {\n",
       "        vertical-align: top;\n",
       "    }\n",
       "\n",
       "    .dataframe thead th {\n",
       "        text-align: right;\n",
       "    }\n",
       "</style>\n",
       "<table border=\"1\" class=\"dataframe\">\n",
       "  <thead>\n",
       "    <tr style=\"text-align: right;\">\n",
       "      <th></th>\n",
       "      <th>artist</th>\n",
       "      <th>song</th>\n",
       "      <th>text</th>\n",
       "    </tr>\n",
       "  </thead>\n",
       "  <tbody>\n",
       "    <tr>\n",
       "      <th>0</th>\n",
       "      <td>Insane Clown Posse</td>\n",
       "      <td>Dead Body Man</td>\n",
       "      <td>`` thi is a channel 7 news brief becaus the ne...</td>\n",
       "    </tr>\n",
       "    <tr>\n",
       "      <th>1</th>\n",
       "      <td>Madonna</td>\n",
       "      <td>Just A Dream</td>\n",
       "      <td>[ choru : ] wa it just a dream ? did i feel yo...</td>\n",
       "    </tr>\n",
       "    <tr>\n",
       "      <th>2</th>\n",
       "      <td>Michael Bolton</td>\n",
       "      <td>Hot Love</td>\n",
       "      <td>i never knew someon who made me feel so good b...</td>\n",
       "    </tr>\n",
       "    <tr>\n",
       "      <th>3</th>\n",
       "      <td>Kenny Loggins</td>\n",
       "      <td>Will It Last</td>\n",
       "      <td>i see a lion captiv in the kitchen roll thunde...</td>\n",
       "    </tr>\n",
       "    <tr>\n",
       "      <th>4</th>\n",
       "      <td>Ultravox</td>\n",
       "      <td>We Stand Alone</td>\n",
       "      <td>the word play on around our head perhap we wen...</td>\n",
       "    </tr>\n",
       "  </tbody>\n",
       "</table>\n",
       "</div>"
      ],
      "text/plain": [
       "               artist            song  \\\n",
       "0  Insane Clown Posse   Dead Body Man   \n",
       "1             Madonna    Just A Dream   \n",
       "2      Michael Bolton        Hot Love   \n",
       "3       Kenny Loggins    Will It Last   \n",
       "4            Ultravox  We Stand Alone   \n",
       "\n",
       "                                                text  \n",
       "0  `` thi is a channel 7 news brief becaus the ne...  \n",
       "1  [ choru : ] wa it just a dream ? did i feel yo...  \n",
       "2  i never knew someon who made me feel so good b...  \n",
       "3  i see a lion captiv in the kitchen roll thunde...  \n",
       "4  the word play on around our head perhap we wen...  "
      ]
     },
     "execution_count": 17,
     "metadata": {},
     "output_type": "execute_result"
    }
   ],
   "source": [
    "df.head(5)"
   ]
  },
  {
   "cell_type": "code",
   "execution_count": 18,
   "id": "890795c1-ef4c-4dc0-84ba-8e17c8654669",
   "metadata": {},
   "outputs": [
    {
     "data": {
      "text/plain": [
       "(5000, 3)"
      ]
     },
     "execution_count": 18,
     "metadata": {},
     "output_type": "execute_result"
    }
   ],
   "source": [
    "df.shape"
   ]
  },
  {
   "cell_type": "code",
   "execution_count": 19,
   "id": "13617142-6471-4485-9533-6d0d7a6752d9",
   "metadata": {},
   "outputs": [],
   "source": [
    "from sklearn.feature_extraction.text import TfidfVectorizer\n",
    "from sklearn.metrics.pairwise import cosine_similarity"
   ]
  },
  {
   "cell_type": "code",
   "execution_count": 20,
   "id": "3d535559-fffd-4fd6-9131-88a321d04c6d",
   "metadata": {},
   "outputs": [],
   "source": [
    "Tfid = TfidfVectorizer(stop_words='english')\n",
    "matrix = Tfid.fit_transform(df['text'])"
   ]
  },
  {
   "cell_type": "code",
   "execution_count": 21,
   "id": "09cc6fc8-88f8-4d8c-a239-e8c81cf4ebd4",
   "metadata": {},
   "outputs": [
    {
     "data": {
      "text/plain": [
       "(5000, 17787)"
      ]
     },
     "execution_count": 21,
     "metadata": {},
     "output_type": "execute_result"
    }
   ],
   "source": [
    "matrix.shape"
   ]
  },
  {
   "cell_type": "code",
   "execution_count": 22,
   "id": "f11b5385-e4df-4297-bf95-a05dff154b36",
   "metadata": {},
   "outputs": [],
   "source": [
    "similarity = cosine_similarity(matrix)"
   ]
  },
  {
   "cell_type": "code",
   "execution_count": 23,
   "id": "c0bc26be-31a6-49a4-93aa-e3fdbefdb1ca",
   "metadata": {},
   "outputs": [
    {
     "data": {
      "text/plain": [
       "array([[1.        , 0.08378763, 0.056586  , ..., 0.03033355, 0.02684982,\n",
       "        0.00613815],\n",
       "       [0.08378763, 1.        , 0.06156279, ..., 0.029713  , 0.02781916,\n",
       "        0.02116958],\n",
       "       [0.056586  , 0.06156279, 1.        , ..., 0.06516619, 0.06834377,\n",
       "        0.01437302],\n",
       "       ...,\n",
       "       [0.03033355, 0.029713  , 0.06516619, ..., 1.        , 0.01754947,\n",
       "        0.00337929],\n",
       "       [0.02684982, 0.02781916, 0.06834377, ..., 0.01754947, 1.        ,\n",
       "        0.01077474],\n",
       "       [0.00613815, 0.02116958, 0.01437302, ..., 0.00337929, 0.01077474,\n",
       "        1.        ]])"
      ]
     },
     "execution_count": 23,
     "metadata": {},
     "output_type": "execute_result"
    }
   ],
   "source": [
    "similarity"
   ]
  },
  {
   "cell_type": "code",
   "execution_count": 24,
   "id": "4ee8f491-90a5-44f5-bd42-d7e0487b6d73",
   "metadata": {},
   "outputs": [
    {
     "data": {
      "text/plain": [
       "'Dead Body Man'"
      ]
     },
     "execution_count": 24,
     "metadata": {},
     "output_type": "execute_result"
    }
   ],
   "source": [
    "df['song'][0]"
   ]
  },
  {
   "cell_type": "code",
   "execution_count": 25,
   "id": "01d5e9c0-7a01-4f38-846c-e563b4e7ad3d",
   "metadata": {},
   "outputs": [
    {
     "data": {
      "text/html": [
       "<div>\n",
       "<style scoped>\n",
       "    .dataframe tbody tr th:only-of-type {\n",
       "        vertical-align: middle;\n",
       "    }\n",
       "\n",
       "    .dataframe tbody tr th {\n",
       "        vertical-align: top;\n",
       "    }\n",
       "\n",
       "    .dataframe thead th {\n",
       "        text-align: right;\n",
       "    }\n",
       "</style>\n",
       "<table border=\"1\" class=\"dataframe\">\n",
       "  <thead>\n",
       "    <tr style=\"text-align: right;\">\n",
       "      <th></th>\n",
       "      <th>artist</th>\n",
       "      <th>song</th>\n",
       "      <th>text</th>\n",
       "    </tr>\n",
       "  </thead>\n",
       "  <tbody>\n",
       "    <tr>\n",
       "      <th>538</th>\n",
       "      <td>Howard Jones</td>\n",
       "      <td>Things Can Only Get Better</td>\n",
       "      <td>we 're not scare to lose it all secur throw th...</td>\n",
       "    </tr>\n",
       "  </tbody>\n",
       "</table>\n",
       "</div>"
      ],
      "text/plain": [
       "           artist                        song  \\\n",
       "538  Howard Jones  Things Can Only Get Better   \n",
       "\n",
       "                                                  text  \n",
       "538  we 're not scare to lose it all secur throw th...  "
      ]
     },
     "execution_count": 25,
     "metadata": {},
     "output_type": "execute_result"
    }
   ],
   "source": [
    "df[df['song'] =='Things Can Only Get Better']"
   ]
  },
  {
   "cell_type": "code",
   "execution_count": 26,
   "id": "9b602ac8-833b-4b63-84df-28c77847372b",
   "metadata": {},
   "outputs": [],
   "source": [
    "def recommendation(song):\n",
    "    idx = df[df['song'] == song].index[0]\n",
    "    distance = sorted(list(enumerate(similarity[0])), reverse = False, key = lambda x:x[1])\n",
    "    \n",
    "    songs = []\n",
    "    for i in distance[1:21]:\n",
    "        songs.append(df.iloc[i[0]].song)\n",
    "        \n",
    "    return songs"
   ]
  },
  {
   "cell_type": "code",
   "execution_count": 27,
   "id": "ed28e415-10bd-4dad-89d5-a13d048bb31d",
   "metadata": {},
   "outputs": [
    {
     "ename": "IndexError",
     "evalue": "index 0 is out of bounds for axis 0 with size 0",
     "output_type": "error",
     "traceback": [
      "\u001b[1;31m---------------------------------------------------------------------------\u001b[0m",
      "\u001b[1;31mIndexError\u001b[0m                                Traceback (most recent call last)",
      "Cell \u001b[1;32mIn[27], line 1\u001b[0m\n\u001b[1;32m----> 1\u001b[0m recommendation(\u001b[38;5;124m'\u001b[39m\u001b[38;5;124mMemory Of Water\u001b[39m\u001b[38;5;124m'\u001b[39m)\n",
      "Cell \u001b[1;32mIn[26], line 2\u001b[0m, in \u001b[0;36mrecommendation\u001b[1;34m(song)\u001b[0m\n\u001b[0;32m      1\u001b[0m \u001b[38;5;28;01mdef\u001b[39;00m \u001b[38;5;21mrecommendation\u001b[39m(song):\n\u001b[1;32m----> 2\u001b[0m     idx \u001b[38;5;241m=\u001b[39m df[df[\u001b[38;5;124m'\u001b[39m\u001b[38;5;124msong\u001b[39m\u001b[38;5;124m'\u001b[39m] \u001b[38;5;241m==\u001b[39m song]\u001b[38;5;241m.\u001b[39mindex[\u001b[38;5;241m0\u001b[39m]\n\u001b[0;32m      3\u001b[0m     distance \u001b[38;5;241m=\u001b[39m \u001b[38;5;28msorted\u001b[39m(\u001b[38;5;28mlist\u001b[39m(\u001b[38;5;28menumerate\u001b[39m(similarity[\u001b[38;5;241m0\u001b[39m])), reverse \u001b[38;5;241m=\u001b[39m \u001b[38;5;28;01mFalse\u001b[39;00m, key \u001b[38;5;241m=\u001b[39m \u001b[38;5;28;01mlambda\u001b[39;00m x:x[\u001b[38;5;241m1\u001b[39m])\n\u001b[0;32m      5\u001b[0m     songs \u001b[38;5;241m=\u001b[39m []\n",
      "File \u001b[1;32m~\\anaconda3\\Lib\\site-packages\\pandas\\core\\indexes\\base.py:5366\u001b[0m, in \u001b[0;36mIndex.__getitem__\u001b[1;34m(self, key)\u001b[0m\n\u001b[0;32m   5363\u001b[0m \u001b[38;5;28;01mif\u001b[39;00m is_integer(key) \u001b[38;5;129;01mor\u001b[39;00m is_float(key):\n\u001b[0;32m   5364\u001b[0m     \u001b[38;5;66;03m# GH#44051 exclude bool, which would return a 2d ndarray\u001b[39;00m\n\u001b[0;32m   5365\u001b[0m     key \u001b[38;5;241m=\u001b[39m com\u001b[38;5;241m.\u001b[39mcast_scalar_indexer(key)\n\u001b[1;32m-> 5366\u001b[0m     \u001b[38;5;28;01mreturn\u001b[39;00m getitem(key)\n\u001b[0;32m   5368\u001b[0m \u001b[38;5;28;01mif\u001b[39;00m \u001b[38;5;28misinstance\u001b[39m(key, \u001b[38;5;28mslice\u001b[39m):\n\u001b[0;32m   5369\u001b[0m     \u001b[38;5;66;03m# This case is separated from the conditional above to avoid\u001b[39;00m\n\u001b[0;32m   5370\u001b[0m     \u001b[38;5;66;03m# pessimization com.is_bool_indexer and ndim checks.\u001b[39;00m\n\u001b[0;32m   5371\u001b[0m     \u001b[38;5;28;01mreturn\u001b[39;00m \u001b[38;5;28mself\u001b[39m\u001b[38;5;241m.\u001b[39m_getitem_slice(key)\n",
      "\u001b[1;31mIndexError\u001b[0m: index 0 is out of bounds for axis 0 with size 0"
     ]
    }
   ],
   "source": [
    "recommendation('Memory Of Water')"
   ]
  },
  {
   "cell_type": "code",
   "execution_count": null,
   "id": "f5a03a94-d593-4ed8-9516-21a171091ad5",
   "metadata": {},
   "outputs": [],
   "source": [
    "import pickle"
   ]
  },
  {
   "cell_type": "code",
   "execution_count": null,
   "id": "56d58b79-fbd7-45f1-8f6f-333eebe04dce",
   "metadata": {},
   "outputs": [],
   "source": []
  },
  {
   "cell_type": "code",
   "execution_count": null,
   "id": "6d88618c-5948-4703-a34d-29795b3b3bee",
   "metadata": {},
   "outputs": [],
   "source": [
    "pickle.dump(df,open(\"df.pkl\", \"wb\"))"
   ]
  },
  {
   "cell_type": "code",
   "execution_count": null,
   "id": "9672155c-11f1-4e26-ba96-657af7450c9b",
   "metadata": {},
   "outputs": [],
   "source": [
    "pickle.dump(similarity,open(\"similarity.pkl\", \"wb\"))"
   ]
  },
  {
   "cell_type": "code",
   "execution_count": null,
   "id": "6cb9a3f9-d060-4530-b862-f597b69cdccc",
   "metadata": {},
   "outputs": [],
   "source": []
  }
 ],
 "metadata": {
  "kernelspec": {
   "display_name": "Python 3 (ipykernel)",
   "language": "python",
   "name": "python3"
  },
  "language_info": {
   "codemirror_mode": {
    "name": "ipython",
    "version": 3
   },
   "file_extension": ".py",
   "mimetype": "text/x-python",
   "name": "python",
   "nbconvert_exporter": "python",
   "pygments_lexer": "ipython3",
   "version": "3.11.8"
  }
 },
 "nbformat": 4,
 "nbformat_minor": 5
}
